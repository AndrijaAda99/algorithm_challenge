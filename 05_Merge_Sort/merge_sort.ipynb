{
 "cells": [
  {
   "cell_type": "code",
   "execution_count": 37,
   "metadata": {},
   "outputs": [],
   "source": [
    "def merge(arr, left, middle, right):\n",
    "    # Find Left and Right array for mergeing\n",
    "    n1 = middle - left + 1;\n",
    "    n2 = right - middle;\n",
    "    \n",
    "    L = [0] * (n1)\n",
    "    R = [0] * (n2)\n",
    "    \n",
    "    for i in range(0, n1):\n",
    "        L[i] = arr[left + i]\n",
    "    for i in range(0, n2):\n",
    "        R[i] = arr[(middle + 1) + i]\n",
    "    \n",
    "    \n",
    "    # Merge Left and Right into arr[left, right]\n",
    "    i, j = 0, 0\n",
    "    k = left\n",
    "    while i < n1 and j < n2:\n",
    "        if L[i] <= R[j]:\n",
    "            arr[k] = L[i]\n",
    "            i += 1\n",
    "        else:\n",
    "            arr[k] = R[j]\n",
    "            j += 1\n",
    "        k += 1\n",
    "    \n",
    "    while i < n1:\n",
    "        arr[k] = L[i]\n",
    "        i += 1\n",
    "        k += 1\n",
    "    \n",
    "    while j < n2:\n",
    "        arr[k] = R[j]\n",
    "        j += 1\n",
    "        k += 1"
   ]
  },
  {
   "cell_type": "code",
   "execution_count": 38,
   "metadata": {},
   "outputs": [],
   "source": [
    "def merge_sort(arr, left, right):\n",
    "    if left < right:\n",
    "        middle = (left + right) // 2\n",
    "        merge_sort(arr, left, middle)\n",
    "        merge_sort(arr, middle + 1, right)\n",
    "        merge(arr, left, middle, right)"
   ]
  },
  {
   "cell_type": "code",
   "execution_count": 41,
   "metadata": {
    "scrolled": true
   },
   "outputs": [
    {
     "name": "stdout",
     "output_type": "stream",
     "text": [
      "Array before sorting: \n",
      "[213, 12, 54, 22, 67, 35, 2, 52, 10]\n",
      "Array after sorting:\n",
      "[2, 10, 12, 22, 35, 52, 54, 67, 213]\n"
     ]
    }
   ],
   "source": [
    "array = [213, 12, 54, 22, 67, 35, 2, 52, 10]\n",
    "n = len(array)\n",
    "print('Array before sorting: ')\n",
    "print(array)\n",
    "merge_sort(array, 0, n - 1)\n",
    "print('Array after sorting:')\n",
    "print(array)"
   ]
  },
  {
   "cell_type": "code",
   "execution_count": null,
   "metadata": {},
   "outputs": [],
   "source": []
  }
 ],
 "metadata": {
  "kernelspec": {
   "display_name": "Python 3",
   "language": "python",
   "name": "python3"
  },
  "language_info": {
   "codemirror_mode": {
    "name": "ipython",
    "version": 3
   },
   "file_extension": ".py",
   "mimetype": "text/x-python",
   "name": "python",
   "nbconvert_exporter": "python",
   "pygments_lexer": "ipython3",
   "version": "3.7.1"
  }
 },
 "nbformat": 4,
 "nbformat_minor": 2
}
