{
 "cells": [
  {
   "cell_type": "markdown",
   "metadata": {},
   "source": [
    "# Insertion Sort\n",
    "\n",
    "Insertion Sort is simple algorithm that sort array of numbers.\n",
    "\n",
    "Algoritm: Set array $A$ size $n$ with elements $a_0, a_1, \\ldots, a_{n-1}$ \n",
    "1. For each $a_i$ in $A$:\n",
    "    1. Find $k$ such that $a_{k-1} < a_i \\leq a_{k+1}$, where $k = i - 1, i - 2, \\ldots 1$\n",
    "    2. Set $a_k \\leftarrow a_i$"
   ]
  },
  {
   "cell_type": "code",
   "execution_count": 9,
   "metadata": {},
   "outputs": [],
   "source": [
    "def insert_number(array, start, value):\n",
    "    ind = start\n",
    "    while (ind > 0 and array[ind - 1] > value):\n",
    "        array[ind] = array[ind - 1]\n",
    "        ind -= 1\n",
    "    array[ind] = value\n",
    "    \n",
    "def insertion_sort(array):\n",
    "    for i in range(len(array)):\n",
    "        insert_number(array, i, array[i])\n",
    "        print(array)"
   ]
  },
  {
   "cell_type": "markdown",
   "metadata": {},
   "source": [
    "Testing:"
   ]
  },
  {
   "cell_type": "code",
   "execution_count": 12,
   "metadata": {},
   "outputs": [
    {
     "name": "stdout",
     "output_type": "stream",
     "text": [
      "Sorting...\n",
      "[21, 35, 12, 67, 29]\n",
      "[21, 35, 12, 67, 29]\n",
      "[12, 21, 35, 67, 29]\n",
      "[12, 21, 35, 67, 29]\n",
      "[12, 21, 29, 35, 67]\n",
      "Sorted:\n",
      "[12, 21, 29, 35, 67]\n"
     ]
    }
   ],
   "source": [
    "array = [21, 35, 12, 67, 29]\n",
    "print ('Sorting...')\n",
    "insertion_sort(array)\n",
    "print ('Sorted:')\n",
    "print(array)"
   ]
  },
  {
   "cell_type": "code",
   "execution_count": null,
   "metadata": {},
   "outputs": [],
   "source": []
  }
 ],
 "metadata": {
  "kernelspec": {
   "display_name": "Python 3",
   "language": "python",
   "name": "python3"
  },
  "language_info": {
   "codemirror_mode": {
    "name": "ipython",
    "version": 3
   },
   "file_extension": ".py",
   "mimetype": "text/x-python",
   "name": "python",
   "nbconvert_exporter": "python",
   "pygments_lexer": "ipython3",
   "version": "3.7.3"
  }
 },
 "nbformat": 4,
 "nbformat_minor": 2
}
