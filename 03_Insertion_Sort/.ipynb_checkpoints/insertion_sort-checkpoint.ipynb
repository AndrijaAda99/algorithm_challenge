{
 "cells": [
  {
   "cell_type": "code",
   "execution_count": 9,
   "metadata": {},
   "outputs": [],
   "source": [
    "def insert_number(array, start, value):\n",
    "    ind = start\n",
    "    while (ind > 0 and array[ind - 1] > value):\n",
    "        array[ind] = array[ind - 1]\n",
    "        ind -= 1\n",
    "    array[ind] = value"
   ]
  },
  {
   "cell_type": "code",
   "execution_count": 10,
   "metadata": {},
   "outputs": [],
   "source": [
    "def insertion_sort(array):\n",
    "    for i in range(len(array)):\n",
    "        insert_number(array, i, array[i])\n",
    "        print(array)"
   ]
  },
  {
   "cell_type": "code",
   "execution_count": 12,
   "metadata": {},
   "outputs": [
    {
     "name": "stdout",
     "output_type": "stream",
     "text": [
      "Sorting...\n",
      "[21, 35, 12, 67, 29]\n",
      "[21, 35, 12, 67, 29]\n",
      "[12, 21, 35, 67, 29]\n",
      "[12, 21, 35, 67, 29]\n",
      "[12, 21, 29, 35, 67]\n",
      "Sorted:\n",
      "[12, 21, 29, 35, 67]\n"
     ]
    }
   ],
   "source": [
    "array = [21, 35, 12, 67, 29]\n",
    "print ('Sorting...')\n",
    "insertion_sort(array)\n",
    "print ('Sorted:')\n",
    "print(array)"
   ]
  },
  {
   "cell_type": "code",
   "execution_count": null,
   "metadata": {},
   "outputs": [],
   "source": []
  }
 ],
 "metadata": {
  "kernelspec": {
   "display_name": "Python 3",
   "language": "python",
   "name": "python3"
  },
  "language_info": {
   "codemirror_mode": {
    "name": "ipython",
    "version": 3
   },
   "file_extension": ".py",
   "mimetype": "text/x-python",
   "name": "python",
   "nbconvert_exporter": "python",
   "pygments_lexer": "ipython3",
   "version": "3.7.1"
  }
 },
 "nbformat": 4,
 "nbformat_minor": 2
}
