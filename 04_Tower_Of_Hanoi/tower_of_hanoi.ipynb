{
 "cells": [
  {
   "cell_type": "markdown",
   "metadata": {},
   "source": [
    "# Tower Of Hanoi\n",
    "\n",
    "Tower of Hanoi is a math puzzle.\n",
    "It's simple game in which you have $3$ rods $A, B, C$, where first rod $A$ have stack of $n$ rings $n, n-1, \\ldots, 1$ from the bottom to the top of the rod. You need to move entire stack from rod $A$ to rod $B$ without changing order. You are alowed to:\n",
    "1. Move only one disk at a time\n",
    "2. Move one disk to another stack or an empty rod such that no large disk (disk with bigger number) can be place on top of smaller disk\n",
    "\n",
    "![Img od Tower of Hanoi](https://upload.wikimedia.org/wikipedia/commons/8/8d/Iterative_algorithm_solving_a_6_disks_Tower_of_Hanoi.gif)\n",
    "\n",
    "Setting up some needed stuff:"
   ]
  },
  {
   "cell_type": "code",
   "execution_count": 109,
   "metadata": {},
   "outputs": [],
   "source": [
    "# Number of rings\n",
    "n = 4\n",
    "\n",
    "# Rods\n",
    "A = [i for i in range(n, 0, -1)]\n",
    "B = []\n",
    "C = []\n",
    "\n",
    "# Printing rods and rings numbers\n",
    "def print_rods():\n",
    "    print('\\tA:', A)\n",
    "    print('\\tB:', B)\n",
    "    print('\\tC:', C)\n",
    "  \n",
    "\n",
    "# Moving n-th ring from one rod to another\n",
    "def move_ring(n, from_rod, to_rod):\n",
    "    print('%d: %c -> %c'% (n, from_rod, to_rod))\n",
    "    \n",
    "    if 'A' == from_rod:\n",
    "        ring = A.pop()\n",
    "    elif 'B' == from_rod:\n",
    "        ring = B.pop()\n",
    "    else:\n",
    "        ring = C.pop()\n",
    "        \n",
    "    if 'A' == to_rod:\n",
    "        A.append(ring)\n",
    "    elif 'B' == to_rod:\n",
    "        B.append(ring)\n",
    "    else:\n",
    "        C.append(ring)\n",
    "    \n",
    "    print_rods()\n",
    "\n",
    "def find_spare_rod(rod1, rod2):\n",
    "    if ('A' != rod1 and 'A' != rod2):\n",
    "        return 'A'\n",
    "    elif ('B' != rod1 and 'B' != rod2):\n",
    "        return 'B'\n",
    "    else:\n",
    "        return 'C'\n",
    "    "
   ]
  },
  {
   "cell_type": "markdown",
   "metadata": {},
   "source": [
    "Algorithm: Let $A, B, C$ be rods and where rod $A$ have $n$ rings such that thay are decrementing from the bottom to the top $n, n-1, n-2, \\ldots, 1$:\n",
    "\n",
    "If $n = 1$ then just move ring else for $n \\geq 2$:\n",
    "1. Recursivly solve subproblem of moving ring 1 through $n-1$ from whichever rod it started to spare rod\n",
    "2. Move ring $n$ from the rod it started to rod it supposed to end up on\n",
    "3. Recursivly solve subproblem of moving ring 1 through $n-1$ from spare rod to rod it supposed to end up on\n"
   ]
  },
  {
   "cell_type": "code",
   "execution_count": 110,
   "metadata": {},
   "outputs": [],
   "source": [
    "def tower_of_hanoi(n, from_rod, to_rod):\n",
    "    if (n == 0):\n",
    "        return\n",
    "        \n",
    "    spare_rod = get_spare_rod(from_rod, to_rod)\n",
    "    tower_of_hanoi(n - 1, from_rod, spare_rod)\n",
    "    move_ring(n, from_rod, to_rod)\n",
    "    tower_of_hanoi(n - 1, spare_rod, to_rod)"
   ]
  },
  {
   "cell_type": "code",
   "execution_count": 111,
   "metadata": {},
   "outputs": [
    {
     "name": "stdout",
     "output_type": "stream",
     "text": [
      "Starting settup: \n",
      "\tA: [4, 3, 2, 1]\n",
      "\tB: []\n",
      "\tC: []\n",
      "1: A -> C\n",
      "\tA: [4, 3, 2]\n",
      "\tB: []\n",
      "\tC: [1]\n",
      "2: A -> B\n",
      "\tA: [4, 3]\n",
      "\tB: [2]\n",
      "\tC: [1]\n",
      "1: C -> B\n",
      "\tA: [4, 3]\n",
      "\tB: [2, 1]\n",
      "\tC: []\n",
      "3: A -> C\n",
      "\tA: [4]\n",
      "\tB: [2, 1]\n",
      "\tC: [3]\n",
      "1: B -> A\n",
      "\tA: [4, 1]\n",
      "\tB: [2]\n",
      "\tC: [3]\n",
      "2: B -> C\n",
      "\tA: [4, 1]\n",
      "\tB: []\n",
      "\tC: [3, 2]\n",
      "1: A -> C\n",
      "\tA: [4]\n",
      "\tB: []\n",
      "\tC: [3, 2, 1]\n",
      "4: A -> B\n",
      "\tA: []\n",
      "\tB: [4]\n",
      "\tC: [3, 2, 1]\n",
      "1: C -> B\n",
      "\tA: []\n",
      "\tB: [4, 1]\n",
      "\tC: [3, 2]\n",
      "2: C -> A\n",
      "\tA: [2]\n",
      "\tB: [4, 1]\n",
      "\tC: [3]\n",
      "1: B -> A\n",
      "\tA: [2, 1]\n",
      "\tB: [4]\n",
      "\tC: [3]\n",
      "3: C -> B\n",
      "\tA: [2, 1]\n",
      "\tB: [4, 3]\n",
      "\tC: []\n",
      "1: A -> C\n",
      "\tA: [2]\n",
      "\tB: [4, 3]\n",
      "\tC: [1]\n",
      "2: A -> B\n",
      "\tA: []\n",
      "\tB: [4, 3, 2]\n",
      "\tC: [1]\n",
      "1: C -> B\n",
      "\tA: []\n",
      "\tB: [4, 3, 2, 1]\n",
      "\tC: []\n"
     ]
    }
   ],
   "source": [
    "print('Starting settup: ')\n",
    "print_rods()\n",
    "tower_of_hanoi(n, 'A', 'B')"
   ]
  },
  {
   "cell_type": "markdown",
   "metadata": {},
   "source": [
    "* This problem needs exacly $2^n - 1$ steps."
   ]
  },
  {
   "cell_type": "code",
   "execution_count": null,
   "metadata": {},
   "outputs": [],
   "source": []
  }
 ],
 "metadata": {
  "kernelspec": {
   "display_name": "Python 3",
   "language": "python",
   "name": "python3"
  },
  "language_info": {
   "codemirror_mode": {
    "name": "ipython",
    "version": 3
   },
   "file_extension": ".py",
   "mimetype": "text/x-python",
   "name": "python",
   "nbconvert_exporter": "python",
   "pygments_lexer": "ipython3",
   "version": "3.7.1"
  }
 },
 "nbformat": 4,
 "nbformat_minor": 2
}
