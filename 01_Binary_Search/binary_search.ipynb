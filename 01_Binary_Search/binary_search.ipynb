{
 "cells": [
  {
   "cell_type": "markdown",
   "metadata": {},
   "source": [
    "# Binary Search Algorithm\n",
    "\n",
    "Binary search algorithm is an effective algorithm to find item in array of items\n",
    "\n",
    "\n",
    "Alghoritm:\n",
    "For given sorted array $A$ with elements $a_0, a_2, \\ldots, a_{n-1}$, such that $a_0 < a_2 < \\ldots < a_{n-1}$ and targeted value $T \\in A$\n",
    "1. Set $L \\leftarrow 0$ and $R \\leftarrow n-1$\n",
    "2. If $L > R$: search is unseccesful\n",
    "3. Set $m \\leftarrow \\frac{L + R}{2}$\n",
    "4. If $A_m < T$ set $L \\leftarrow m + 1$ and go to step 2.\n",
    "5. If $A_m > T$ set $R \\leftarrow m - 1$ and go to step 2.\n",
    "6. If $A_m = T$ search is done; return $m$\n",
    " \n",
    "\n",
    "1. Init\n",
    "\n",
    "\n",
    " 2 | 3 | 5 | 7 | 11 | 13 | 17 | 19 | 23 \n",
    "---|---|---|---|----|----|----|----|----\n",
    " 0 | 1 | 2 | 3 | 4  | 5  | 6  | 7  | 8\n",
    "min|   |   |   |    |    |item|    | max\n",
    "\n",
    "\n",
    "2. $0 < 8$ then $mid = 4$\n",
    "\n",
    "\n",
    " 2 | 3 | 5 | 7 | 11 | 13 | 17 | 19 | 23 \n",
    "---|---|---|---|----|----|----|----|----\n",
    " 0 | 1 | 2 | 3 | 4  | 5  | 6  | 7  | 8\n",
    "min|   |   |   |mid |    |item|    | max\n",
    "\n",
    "\n",
    "3. $4 < 6$ then $min = 5$\n",
    "\n",
    "\n",
    " 2 | 3 | 5 | 7 | 11 | 13 | 17 | 19 | 23 \n",
    "---|---|---|---|----|----|----|----|----\n",
    " 0 | 1 | 2 | 3 | 4  | 5  | 6  | 7  | 8\n",
    "   |   |   |   |mid |min |item|    | max\n",
    "   \n",
    "   \n",
    "4. $5 < 8$ then $mid = 6$\n",
    "\n",
    "\n",
    "2 | 3 | 5 | 7 | 11 | 13 | 17 | 19 | 23 \n",
    "---|---|---|---|----|----|----|----|----\n",
    " 0 | 1 | 2 | 3 | 4  | 5  | 6  | 7  | 8\n",
    "   |   |   |   |    |min |item|    | max\n",
    "   \n",
    "5. $A_{mid} = T$ then return $mid$\n",
    "\n",
    "Defining function:\n"
   ]
  },
  {
   "cell_type": "code",
   "execution_count": 19,
   "metadata": {},
   "outputs": [],
   "source": [
    "def binary_search(target, array):\n",
    "    min = 0\n",
    "    max = len(array) - 1;\n",
    "    \n",
    "    while min <= max:\n",
    "        middle = (min + max) // 2\n",
    "        if array[middle] == target:\n",
    "            return middle # + 1 \n",
    "        elif array[middle] < target:\n",
    "            min = middle + 1\n",
    "        else:\n",
    "            max = middle - 1\n",
    "            \n",
    "    return -1;"
   ]
  },
  {
   "cell_type": "markdown",
   "metadata": {},
   "source": [
    "Testing function:"
   ]
  },
  {
   "cell_type": "code",
   "execution_count": 20,
   "metadata": {},
   "outputs": [
    {
     "name": "stdout",
     "output_type": "stream",
     "text": [
      "Item 11 is on position 4\n"
     ]
    }
   ],
   "source": [
    "primes = [2, 3, 5, 7, 11, 13, 17, 19, 23, 29, 31, 37, 41, \n",
    "          43, 47, 53, 59, 61, 67, 71, 73, 79, 83, 89, 97]\n",
    "item = 11\n",
    "print ('Item %d is on position %d' \n",
    "       %(item, binary_search(item, primes)))"
   ]
  },
  {
   "cell_type": "markdown",
   "metadata": {},
   "source": [
    "Complexity of Binary Search is $O(\\log_2 n)$ and for the worst case it is $O(\\log_2 n + 1)$"
   ]
  },
  {
   "cell_type": "code",
   "execution_count": 33,
   "metadata": {},
   "outputs": [
    {
     "name": "stdout",
     "output_type": "stream",
     "text": [
      "     n log_2 n\n",
      "     1    1\n",
      "     2    2\n",
      "     4    3\n",
      "     8    4\n",
      "    16    5\n",
      "    32    6\n",
      "    64    7\n",
      "   128    8\n",
      "   256    9\n",
      "   512   10\n",
      "  1024   11\n",
      "  2048   12\n",
      "  4096   13\n",
      "  8192   14\n",
      " 16384   15\n",
      " 32768   16\n",
      " 65536   17\n",
      "131072   18\n",
      "262144   19\n",
      "524288   20\n"
     ]
    }
   ],
   "source": [
    "n = 1\n",
    "print('%6s %2s' %('n', 'log_2 n'))\n",
    "for i in range(1, 21):\n",
    "    print('%6d %4d' %(n, i))\n",
    "    n *= 2\n",
    "    "
   ]
  },
  {
   "cell_type": "code",
   "execution_count": null,
   "metadata": {},
   "outputs": [],
   "source": []
  }
 ],
 "metadata": {
  "kernelspec": {
   "display_name": "Python 3",
   "language": "python",
   "name": "python3"
  },
  "language_info": {
   "codemirror_mode": {
    "name": "ipython",
    "version": 3
   },
   "file_extension": ".py",
   "mimetype": "text/x-python",
   "name": "python",
   "nbconvert_exporter": "python",
   "pygments_lexer": "ipython3",
   "version": "3.7.1"
  }
 },
 "nbformat": 4,
 "nbformat_minor": 2
}
