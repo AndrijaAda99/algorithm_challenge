{
 "cells": [
  {
   "cell_type": "markdown",
   "metadata": {},
   "source": [
    "# Selection sort\n",
    "\n",
    "Selection sort next to the bubble sort is simplest alghoritm for sorting array.\n",
    "\n",
    "Algorithm: For given array $A$ with elements $a_0, a_1, \\ldots, a_{n-1}$.\n",
    "    \n",
    "1. Loop through $A ( = a_i)$:\n",
    "\n",
    "    A. Find index $m \\leftarrow j$ such that $a_j$ is min value in array where $j = i, i+1, \\ldots n$\n",
    "    \n",
    "    B. Swap $a_m$ and $a_i$\n",
    "\n"
   ]
  },
  {
   "cell_type": "code",
   "execution_count": 1,
   "metadata": {},
   "outputs": [],
   "source": [
    "def selection_sort(array):\n",
    "    for i in range(len(array)):\n",
    "        min_value = min(array[i:])\n",
    "        min_index = array[i:].index(min_value) + i\n",
    "        array[i], array[min_index] = array[min_index], array[i]\n",
    "        print(array)"
   ]
  },
  {
   "cell_type": "code",
   "execution_count": 2,
   "metadata": {},
   "outputs": [
    {
     "name": "stdout",
     "output_type": "stream",
     "text": [
      "Sorting...\n",
      "[12, 26, 23, 52, 102, 34, 52]\n",
      "[12, 23, 26, 52, 102, 34, 52]\n",
      "[12, 23, 26, 52, 102, 34, 52]\n",
      "[12, 23, 26, 34, 102, 52, 52]\n",
      "[12, 23, 26, 34, 52, 102, 52]\n",
      "[12, 23, 26, 34, 52, 52, 102]\n",
      "[12, 23, 26, 34, 52, 52, 102]\n",
      "Sorted: \n",
      "[12, 23, 26, 34, 52, 52, 102]\n"
     ]
    }
   ],
   "source": [
    "array = [102, 26, 23, 52, 12, 34, 52]\n",
    "print('Sorting...')\n",
    "selection_sort(array)\n",
    "print('Sorted: ')\n",
    "print(array)"
   ]
  },
  {
   "cell_type": "code",
   "execution_count": null,
   "metadata": {},
   "outputs": [],
   "source": []
  }
 ],
 "metadata": {
  "kernelspec": {
   "display_name": "Python 3",
   "language": "python",
   "name": "python3"
  },
  "language_info": {
   "codemirror_mode": {
    "name": "ipython",
    "version": 3
   },
   "file_extension": ".py",
   "mimetype": "text/x-python",
   "name": "python",
   "nbconvert_exporter": "python",
   "pygments_lexer": "ipython3",
   "version": "3.7.3"
  }
 },
 "nbformat": 4,
 "nbformat_minor": 2
}
