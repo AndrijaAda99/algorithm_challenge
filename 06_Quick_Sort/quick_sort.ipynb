{
 "cells": [
  {
   "cell_type": "code",
   "execution_count": 4,
   "metadata": {},
   "outputs": [],
   "source": [
    "def partition(arr, left, right):\n",
    "    pivot_value = arr[right]\n",
    "    pivot_index = left\n",
    "    \n",
    "    for i in range(left, right):\n",
    "        if arr[i] < pivot_value:\n",
    "            arr[i], arr[pivot_index] = arr[pivot_index], arr[i]\n",
    "            pivot_index += 1\n",
    "    \n",
    "    arr[pivot_index], arr[right] = arr[right], arr[pivot_index]\n",
    "    return pivot_index"
   ]
  },
  {
   "cell_type": "code",
   "execution_count": 5,
   "metadata": {},
   "outputs": [],
   "source": [
    "def quick_sort(arr, left, right):\n",
    "    if left < right:\n",
    "        index = partition(arr, left, right)\n",
    "        quick_sort(arr, left, index - 1)\n",
    "        quick_sort(arr, index + 1, right)"
   ]
  },
  {
   "cell_type": "code",
   "execution_count": 6,
   "metadata": {},
   "outputs": [
    {
     "name": "stdout",
     "output_type": "stream",
     "text": [
      "[2, 6, 12, 21, 43, 76]\n"
     ]
    }
   ],
   "source": [
    "a = [6, 2, 76, 21, 43, 12]\n",
    "quick_sort(a, 0, len(a) - 1)\n",
    "print(a)"
   ]
  },
  {
   "cell_type": "code",
   "execution_count": null,
   "metadata": {},
   "outputs": [],
   "source": []
  }
 ],
 "metadata": {
  "kernelspec": {
   "display_name": "Python 3",
   "language": "python",
   "name": "python3"
  },
  "language_info": {
   "codemirror_mode": {
    "name": "ipython",
    "version": 3
   },
   "file_extension": ".py",
   "mimetype": "text/x-python",
   "name": "python",
   "nbconvert_exporter": "python",
   "pygments_lexer": "ipython3",
   "version": "3.7.3"
  }
 },
 "nbformat": 4,
 "nbformat_minor": 2
}
